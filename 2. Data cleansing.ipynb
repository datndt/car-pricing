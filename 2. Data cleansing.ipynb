{
 "cells": [
  {
   "cell_type": "markdown",
   "metadata": {},
   "source": [
    "# Data cleansing"
   ]
  },
  {
   "cell_type": "code",
   "execution_count": 1,
   "metadata": {},
   "outputs": [],
   "source": [
    "import pandas as pd\n",
    "import pickle\n",
    "from tqdm import tqdm\n",
    "import numpy as np\n",
    "import warnings\n",
    "\n",
    "# Tắt hiển thị FutureWarning\n",
    "warnings.simplefilter(action='ignore', category=FutureWarning)"
   ]
  },
  {
   "cell_type": "markdown",
   "metadata": {},
   "source": [
    "# 1.Data chotot"
   ]
  },
  {
   "cell_type": "code",
   "execution_count": 3,
   "metadata": {},
   "outputs": [],
   "source": [
    "# Import data from pickle\n",
    "with open('car_detail_chotot.pkl','rb') as f:\n",
    "    chotot = pickle.load(f)"
   ]
  },
  {
   "cell_type": "code",
   "execution_count": 4,
   "metadata": {},
   "outputs": [],
   "source": [
    "chotot[\"web\"] = \"chotot\""
   ]
  },
  {
   "cell_type": "code",
   "execution_count": 5,
   "metadata": {},
   "outputs": [
    {
     "name": "stdout",
     "output_type": "stream",
     "text": [
      "<class 'pandas.core.frame.DataFrame'>\n",
      "Index: 19920 entries, 0 to 0\n",
      "Data columns (total 14 columns):\n",
      " #   Column        Non-Null Count  Dtype \n",
      "---  ------        --------------  ----- \n",
      " 0   url           19920 non-null  object\n",
      " 1   post_date     19920 non-null  object\n",
      " 2   Price         19920 non-null  int64 \n",
      " 3   carbrand      19920 non-null  object\n",
      " 4   carmodel      19920 non-null  object\n",
      " 5   mfdate        19920 non-null  object\n",
      " 6   mileage_v2    19920 non-null  object\n",
      " 7   condition_ad  19920 non-null  object\n",
      " 8   gearbox       19920 non-null  object\n",
      " 9   fuel          19920 non-null  object\n",
      " 10  carorigin     19920 non-null  object\n",
      " 11  cartype       19920 non-null  object\n",
      " 12  carseats      19920 non-null  object\n",
      " 13  web           19920 non-null  object\n",
      "dtypes: int64(1), object(13)\n",
      "memory usage: 2.3+ MB\n",
      "None\n"
     ]
    },
    {
     "data": {
      "text/html": [
       "<div>\n",
       "<style scoped>\n",
       "    .dataframe tbody tr th:only-of-type {\n",
       "        vertical-align: middle;\n",
       "    }\n",
       "\n",
       "    .dataframe tbody tr th {\n",
       "        vertical-align: top;\n",
       "    }\n",
       "\n",
       "    .dataframe thead th {\n",
       "        text-align: right;\n",
       "    }\n",
       "</style>\n",
       "<table border=\"1\" class=\"dataframe\">\n",
       "  <thead>\n",
       "    <tr style=\"text-align: right;\">\n",
       "      <th></th>\n",
       "      <th>url</th>\n",
       "      <th>post_date</th>\n",
       "      <th>Price</th>\n",
       "      <th>carbrand</th>\n",
       "      <th>carmodel</th>\n",
       "      <th>mfdate</th>\n",
       "      <th>mileage_v2</th>\n",
       "      <th>condition_ad</th>\n",
       "      <th>gearbox</th>\n",
       "      <th>fuel</th>\n",
       "      <th>carorigin</th>\n",
       "      <th>cartype</th>\n",
       "      <th>carseats</th>\n",
       "      <th>web</th>\n",
       "    </tr>\n",
       "  </thead>\n",
       "  <tbody>\n",
       "    <tr>\n",
       "      <th>0</th>\n",
       "      <td>https://xe.chotot.com/mua-ban-oto-quan-tan-bin...</td>\n",
       "      <td>2 tháng trước</td>\n",
       "      <td>500000000</td>\n",
       "      <td>Toyota</td>\n",
       "      <td>Vios</td>\n",
       "      <td>2022</td>\n",
       "      <td>9996</td>\n",
       "      <td>Đã sử dụng</td>\n",
       "      <td>Tự động</td>\n",
       "      <td>Xăng</td>\n",
       "      <td>Việt Nam</td>\n",
       "      <td></td>\n",
       "      <td></td>\n",
       "      <td>chotot</td>\n",
       "    </tr>\n",
       "    <tr>\n",
       "      <th>0</th>\n",
       "      <td>https://xe.chotot.com/mua-ban-oto-quan-tan-phu...</td>\n",
       "      <td>23 giờ trước</td>\n",
       "      <td>979000000</td>\n",
       "      <td>Ford</td>\n",
       "      <td>Ranger</td>\n",
       "      <td>2024</td>\n",
       "      <td></td>\n",
       "      <td>Mới</td>\n",
       "      <td>Tự động</td>\n",
       "      <td>Xăng</td>\n",
       "      <td>Việt Nam</td>\n",
       "      <td>Pick-up (bán tải)</td>\n",
       "      <td></td>\n",
       "      <td>chotot</td>\n",
       "    </tr>\n",
       "    <tr>\n",
       "      <th>0</th>\n",
       "      <td>https://xe.chotot.com/mua-ban-oto-quan-tan-phu...</td>\n",
       "      <td>11 giờ trước</td>\n",
       "      <td>950000000</td>\n",
       "      <td>Ford</td>\n",
       "      <td>Everest</td>\n",
       "      <td>2019</td>\n",
       "      <td>38000</td>\n",
       "      <td>Đã sử dụng</td>\n",
       "      <td>Tự động</td>\n",
       "      <td>Dầu</td>\n",
       "      <td>Thái Lan</td>\n",
       "      <td></td>\n",
       "      <td></td>\n",
       "      <td>chotot</td>\n",
       "    </tr>\n",
       "  </tbody>\n",
       "</table>\n",
       "</div>"
      ],
      "text/plain": [
       "                                                 url      post_date  \\\n",
       "0  https://xe.chotot.com/mua-ban-oto-quan-tan-bin...  2 tháng trước   \n",
       "0  https://xe.chotot.com/mua-ban-oto-quan-tan-phu...   23 giờ trước   \n",
       "0  https://xe.chotot.com/mua-ban-oto-quan-tan-phu...   11 giờ trước   \n",
       "\n",
       "       Price carbrand carmodel mfdate mileage_v2 condition_ad  gearbox  fuel  \\\n",
       "0  500000000   Toyota     Vios   2022       9996   Đã sử dụng  Tự động  Xăng   \n",
       "0  979000000     Ford   Ranger   2024                     Mới  Tự động  Xăng   \n",
       "0  950000000     Ford  Everest   2019      38000   Đã sử dụng  Tự động   Dầu   \n",
       "\n",
       "  carorigin            cartype carseats     web  \n",
       "0  Việt Nam                              chotot  \n",
       "0  Việt Nam  Pick-up (bán tải)           chotot  \n",
       "0  Thái Lan                              chotot  "
      ]
     },
     "execution_count": 5,
     "metadata": {},
     "output_type": "execute_result"
    }
   ],
   "source": [
    "# Summarize data\n",
    "print(chotot.info())\n",
    "chotot.head(3)"
   ]
  },
  {
   "cell_type": "code",
   "execution_count": 6,
   "metadata": {},
   "outputs": [
    {
     "data": {
      "text/plain": [
       "url             19905\n",
       "mileage_v2       1931\n",
       "Price            1668\n",
       "carmodel          450\n",
       "post_date          95\n",
       "carbrand           68\n",
       "mfdate             44\n",
       "carorigin          12\n",
       "carseats           11\n",
       "cartype            10\n",
       "gearbox             5\n",
       "fuel                4\n",
       "condition_ad        2\n",
       "web                 1\n",
       "dtype: int64"
      ]
     },
     "execution_count": 6,
     "metadata": {},
     "output_type": "execute_result"
    }
   ],
   "source": [
    "# Kiểm tra các giá trị unique\n",
    "chotot.nunique().sort_values(ascending=False)"
   ]
  },
  {
   "cell_type": "markdown",
   "metadata": {},
   "source": [
    "## 1.1.Post_date"
   ]
  },
  {
   "cell_type": "code",
   "execution_count": 7,
   "metadata": {},
   "outputs": [
    {
     "data": {
      "text/plain": [
       "post_date\n",
       "2 tuần trước     3064\n",
       "1 tháng trước    2543\n",
       "3 tuần trước     2432\n",
       "1 tuần trước     1652\n",
       "4 tuần trước     1602\n",
       "                 ... \n",
       "59 phút trước       1\n",
       "14 phút trước       1\n",
       "27 phút trước       1\n",
       "7 phút trước        1\n",
       "5 giờ trước         1\n",
       "Name: count, Length: 95, dtype: int64"
      ]
     },
     "execution_count": 7,
     "metadata": {},
     "output_type": "execute_result"
    }
   ],
   "source": [
    "# Kiểm tra trường post_date\n",
    "chotot[\"post_date\"].value_counts()"
   ]
  },
  {
   "cell_type": "code",
   "execution_count": 8,
   "metadata": {},
   "outputs": [],
   "source": [
    "# Chuyển giá trị \"hôm qua\" thành \"1 ngày trước\", sau đó xóa phần \" trước\"\n",
    "chotot[\"post_date\"] = chotot[\"post_date\"].replace({\"hôm qua\":\"1 ngày trước\"}).str[:-6]"
   ]
  },
  {
   "cell_type": "code",
   "execution_count": 9,
   "metadata": {},
   "outputs": [
    {
     "data": {
      "text/plain": [
       "unit\n",
       "tuần     8750\n",
       "ngày     5870\n",
       "tháng    2544\n",
       "giờ      2489\n",
       "phút      267\n",
       "Name: count, dtype: int64"
      ]
     },
     "execution_count": 9,
     "metadata": {},
     "output_type": "execute_result"
    }
   ],
   "source": [
    "# Tách thông tin thời gian và unit\n",
    "chotot[[\"time\", \"unit\"]] = chotot[\"post_date\"].str.split(\" \", expand=True)\n",
    "chotot[\"unit\"].value_counts()"
   ]
  },
  {
   "cell_type": "code",
   "execution_count": 10,
   "metadata": {},
   "outputs": [],
   "source": [
    "# Chuyển thông tin thành dạng ngày tháng\n",
    "def update_post_date(row):\n",
    "    if row[\"unit\"] in [\"giờ\", \"phút\"]:\n",
    "        return pd.to_datetime(\"2024-04-02\", format=\"%Y-%m-%d\")\n",
    "    elif row[\"unit\"] == \"ngày\":\n",
    "        return pd.to_datetime(\"2024-04-02\", format=\"%Y-%m-%d\") - pd.Timedelta(days=int(row[\"time\"]))\n",
    "    elif row[\"unit\"] == \"tuần\":\n",
    "        return pd.to_datetime(\"2024-04-02\", format='%Y-%m-%d') - pd.Timedelta(weeks=int(row[\"time\"]))\n",
    "    else:\n",
    "        return pd.to_datetime(\"2024-04-02\", format=\"%Y-%m-%d\") - pd.Timedelta(days=30*int(row[\"time\"]))\n",
    "\n",
    "chotot[\"post_date\"] = chotot.apply(update_post_date, axis=1)\n",
    "chotot.drop(['time', 'unit'] , inplace = True ,axis=1)"
   ]
  },
  {
   "cell_type": "markdown",
   "metadata": {},
   "source": [
    "## 1.2.Năm sản xuất"
   ]
  },
  {
   "cell_type": "code",
   "execution_count": 11,
   "metadata": {},
   "outputs": [
    {
     "data": {
      "text/plain": [
       "mfdate\n",
       "2022              2382\n",
       "2023              1853\n",
       "2021              1826\n",
       "2019              1678\n",
       "2020              1538\n",
       "2024              1399\n",
       "2018              1350\n",
       "2016              1049\n",
       "2017               983\n",
       "2015               833\n",
       "2014               578\n",
       "2009               563\n",
       "2010               481\n",
       "2008               444\n",
       "2011               436\n",
       "2007               362\n",
       "2013               307\n",
       "2004               302\n",
       "2012               280\n",
       "2003               264\n",
       "2005               243\n",
       "2006               152\n",
       "2002               139\n",
       "2001                87\n",
       "2000                82\n",
       "1993                34\n",
       "1997                32\n",
       "trước năm 1980      31\n",
       "1995                29\n",
       "1992                28\n",
       "1996                24\n",
       "1999                23\n",
       "1998                22\n",
       "1991                16\n",
       "1994                14\n",
       "1990                12\n",
       "1987                10\n",
       "1989                 8\n",
       "1984                 8\n",
       "1988                 6\n",
       "1985                 6\n",
       "1986                 4\n",
       "1982                 1\n",
       "1983                 1\n",
       "Name: count, dtype: int64"
      ]
     },
     "execution_count": 11,
     "metadata": {},
     "output_type": "execute_result"
    }
   ],
   "source": [
    "chotot[\"mfdate\"].value_counts()"
   ]
  },
  {
   "cell_type": "code",
   "execution_count": 12,
   "metadata": {},
   "outputs": [
    {
     "name": "stdout",
     "output_type": "stream",
     "text": [
      "<class 'pandas.core.series.Series'>\n",
      "Index: 19920 entries, 0 to 0\n",
      "Series name: mfdate\n",
      "Non-Null Count  Dtype \n",
      "--------------  ----- \n",
      "19920 non-null  object\n",
      "dtypes: object(1)\n",
      "memory usage: 311.2+ KB\n"
     ]
    }
   ],
   "source": [
    "# Tồn tại giá trị \"trước năm 1980\" -> Chuyển về 1980 sau đó chuyển dạng int\n",
    "chotot.loc[:,\"mfdate\"] = chotot[\"mfdate\"].replace({\"trước năm 1980\":\"1980\"}).astype(int)\n",
    "chotot[\"mfdate\"].info()"
   ]
  },
  {
   "cell_type": "markdown",
   "metadata": {},
   "source": [
    "## 1.3.Số KM đã đi"
   ]
  },
  {
   "cell_type": "code",
   "execution_count": 13,
   "metadata": {},
   "outputs": [
    {
     "data": {
      "text/plain": [
       "mileage_v2\n",
       "          2738\n",
       "100000     557\n",
       "50000      431\n",
       "80000      398\n",
       "60000      378\n",
       "          ... \n",
       "83120        1\n",
       "60500        1\n",
       "229000       1\n",
       "68420        1\n",
       "84376        1\n",
       "Name: count, Length: 1931, dtype: int64"
      ]
     },
     "execution_count": 13,
     "metadata": {},
     "output_type": "execute_result"
    }
   ],
   "source": [
    "chotot[\"mileage_v2\"].value_counts()"
   ]
  },
  {
   "cell_type": "code",
   "execution_count": 14,
   "metadata": {},
   "outputs": [
    {
     "name": "stdout",
     "output_type": "stream",
     "text": [
      "<class 'pandas.core.series.Series'>\n",
      "Index: 19920 entries, 0 to 0\n",
      "Series name: mileage_v2\n",
      "Non-Null Count  Dtype \n",
      "--------------  ----- \n",
      "17182 non-null  object\n",
      "dtypes: object(1)\n",
      "memory usage: 311.2+ KB\n"
     ]
    }
   ],
   "source": [
    "# Chuyển định dạng trường mileage_v2 về int\n",
    "chotot.loc[:,\"mileage_v2\"] = chotot[\"mileage_v2\"].replace({\"\":np.nan}).astype(float)\n",
    "chotot[\"mileage_v2\"].info()"
   ]
  },
  {
   "cell_type": "markdown",
   "metadata": {},
   "source": [
    "## 1.4.Tình trạng"
   ]
  },
  {
   "cell_type": "code",
   "execution_count": 15,
   "metadata": {},
   "outputs": [
    {
     "data": {
      "text/plain": [
       "condition_ad\n",
       "Đã sử dụng    17484\n",
       "Mới            2436\n",
       "Name: count, dtype: int64"
      ]
     },
     "execution_count": 15,
     "metadata": {},
     "output_type": "execute_result"
    }
   ],
   "source": [
    "chotot[\"condition_ad\"].value_counts()"
   ]
  },
  {
   "cell_type": "markdown",
   "metadata": {},
   "source": [
    "## 1.5.Hộp số"
   ]
  },
  {
   "cell_type": "code",
   "execution_count": 16,
   "metadata": {},
   "outputs": [
    {
     "data": {
      "text/plain": [
       "gearbox\n",
       "Tự động        14706\n",
       "Số sàn          5041\n",
       "5                102\n",
       "Bán tự động       63\n",
       "4                  8\n",
       "Name: count, dtype: int64"
      ]
     },
     "execution_count": 16,
     "metadata": {},
     "output_type": "execute_result"
    }
   ],
   "source": [
    "chotot[\"gearbox\"].value_counts()"
   ]
  },
  {
   "cell_type": "code",
   "execution_count": 17,
   "metadata": {},
   "outputs": [
    {
     "data": {
      "text/html": [
       "<div>\n",
       "<style scoped>\n",
       "    .dataframe tbody tr th:only-of-type {\n",
       "        vertical-align: middle;\n",
       "    }\n",
       "\n",
       "    .dataframe tbody tr th {\n",
       "        vertical-align: top;\n",
       "    }\n",
       "\n",
       "    .dataframe thead th {\n",
       "        text-align: right;\n",
       "    }\n",
       "</style>\n",
       "<table border=\"1\" class=\"dataframe\">\n",
       "  <thead>\n",
       "    <tr style=\"text-align: right;\">\n",
       "      <th></th>\n",
       "      <th>carmodel</th>\n",
       "      <th>carbrand</th>\n",
       "      <th>count</th>\n",
       "      <th>gearbox</th>\n",
       "      <th>count_full</th>\n",
       "    </tr>\n",
       "  </thead>\n",
       "  <tbody>\n",
       "    <tr>\n",
       "      <th>0</th>\n",
       "      <td>Vios</td>\n",
       "      <td>Toyota</td>\n",
       "      <td>32</td>\n",
       "      <td>Số sàn</td>\n",
       "      <td>304</td>\n",
       "    </tr>\n",
       "    <tr>\n",
       "      <th>1</th>\n",
       "      <td>Vios</td>\n",
       "      <td>Toyota</td>\n",
       "      <td>32</td>\n",
       "      <td>Tự động</td>\n",
       "      <td>283</td>\n",
       "    </tr>\n",
       "    <tr>\n",
       "      <th>2</th>\n",
       "      <td>Vios</td>\n",
       "      <td>Toyota</td>\n",
       "      <td>32</td>\n",
       "      <td>5</td>\n",
       "      <td>32</td>\n",
       "    </tr>\n",
       "    <tr>\n",
       "      <th>3</th>\n",
       "      <td>Vios</td>\n",
       "      <td>Toyota</td>\n",
       "      <td>32</td>\n",
       "      <td>Bán tự động</td>\n",
       "      <td>3</td>\n",
       "    </tr>\n",
       "    <tr>\n",
       "      <th>4</th>\n",
       "      <td>Corolla Cross</td>\n",
       "      <td>Toyota</td>\n",
       "      <td>27</td>\n",
       "      <td>Tự động</td>\n",
       "      <td>159</td>\n",
       "    </tr>\n",
       "    <tr>\n",
       "      <th>5</th>\n",
       "      <td>Corolla Cross</td>\n",
       "      <td>Toyota</td>\n",
       "      <td>27</td>\n",
       "      <td>5</td>\n",
       "      <td>27</td>\n",
       "    </tr>\n",
       "    <tr>\n",
       "      <th>6</th>\n",
       "      <td>Corolla Cross</td>\n",
       "      <td>Toyota</td>\n",
       "      <td>27</td>\n",
       "      <td>Số sàn</td>\n",
       "      <td>2</td>\n",
       "    </tr>\n",
       "    <tr>\n",
       "      <th>7</th>\n",
       "      <td>Corolla Cross</td>\n",
       "      <td>Toyota</td>\n",
       "      <td>27</td>\n",
       "      <td>Bán tự động</td>\n",
       "      <td>1</td>\n",
       "    </tr>\n",
       "    <tr>\n",
       "      <th>8</th>\n",
       "      <td>CR V</td>\n",
       "      <td>Honda</td>\n",
       "      <td>14</td>\n",
       "      <td>Tự động</td>\n",
       "      <td>219</td>\n",
       "    </tr>\n",
       "    <tr>\n",
       "      <th>9</th>\n",
       "      <td>CR V</td>\n",
       "      <td>Honda</td>\n",
       "      <td>14</td>\n",
       "      <td>5</td>\n",
       "      <td>14</td>\n",
       "    </tr>\n",
       "    <tr>\n",
       "      <th>10</th>\n",
       "      <td>Attrage</td>\n",
       "      <td>Mitsubishi</td>\n",
       "      <td>10</td>\n",
       "      <td>Tự động</td>\n",
       "      <td>96</td>\n",
       "    </tr>\n",
       "    <tr>\n",
       "      <th>11</th>\n",
       "      <td>Attrage</td>\n",
       "      <td>Mitsubishi</td>\n",
       "      <td>10</td>\n",
       "      <td>Số sàn</td>\n",
       "      <td>62</td>\n",
       "    </tr>\n",
       "    <tr>\n",
       "      <th>12</th>\n",
       "      <td>Attrage</td>\n",
       "      <td>Mitsubishi</td>\n",
       "      <td>10</td>\n",
       "      <td>5</td>\n",
       "      <td>10</td>\n",
       "    </tr>\n",
       "    <tr>\n",
       "      <th>13</th>\n",
       "      <td>Outlander</td>\n",
       "      <td>Mitsubishi</td>\n",
       "      <td>8</td>\n",
       "      <td>Tự động</td>\n",
       "      <td>95</td>\n",
       "    </tr>\n",
       "    <tr>\n",
       "      <th>14</th>\n",
       "      <td>Outlander</td>\n",
       "      <td>Mitsubishi</td>\n",
       "      <td>8</td>\n",
       "      <td>5</td>\n",
       "      <td>8</td>\n",
       "    </tr>\n",
       "    <tr>\n",
       "      <th>15</th>\n",
       "      <td>Civic</td>\n",
       "      <td>Honda</td>\n",
       "      <td>7</td>\n",
       "      <td>Tự động</td>\n",
       "      <td>208</td>\n",
       "    </tr>\n",
       "    <tr>\n",
       "      <th>16</th>\n",
       "      <td>Civic</td>\n",
       "      <td>Honda</td>\n",
       "      <td>7</td>\n",
       "      <td>Số sàn</td>\n",
       "      <td>33</td>\n",
       "    </tr>\n",
       "    <tr>\n",
       "      <th>17</th>\n",
       "      <td>Civic</td>\n",
       "      <td>Honda</td>\n",
       "      <td>7</td>\n",
       "      <td>5</td>\n",
       "      <td>7</td>\n",
       "    </tr>\n",
       "    <tr>\n",
       "      <th>18</th>\n",
       "      <td>Civic</td>\n",
       "      <td>Honda</td>\n",
       "      <td>7</td>\n",
       "      <td>Bán tự động</td>\n",
       "      <td>1</td>\n",
       "    </tr>\n",
       "    <tr>\n",
       "      <th>19</th>\n",
       "      <td>Tucson</td>\n",
       "      <td>Hyundai</td>\n",
       "      <td>5</td>\n",
       "      <td>Tự động</td>\n",
       "      <td>226</td>\n",
       "    </tr>\n",
       "    <tr>\n",
       "      <th>20</th>\n",
       "      <td>Tucson</td>\n",
       "      <td>Hyundai</td>\n",
       "      <td>5</td>\n",
       "      <td>4</td>\n",
       "      <td>5</td>\n",
       "    </tr>\n",
       "    <tr>\n",
       "      <th>21</th>\n",
       "      <td>Tucson</td>\n",
       "      <td>Hyundai</td>\n",
       "      <td>5</td>\n",
       "      <td>Số sàn</td>\n",
       "      <td>2</td>\n",
       "    </tr>\n",
       "    <tr>\n",
       "      <th>22</th>\n",
       "      <td>City</td>\n",
       "      <td>Honda</td>\n",
       "      <td>3</td>\n",
       "      <td>Tự động</td>\n",
       "      <td>256</td>\n",
       "    </tr>\n",
       "    <tr>\n",
       "      <th>23</th>\n",
       "      <td>City</td>\n",
       "      <td>Honda</td>\n",
       "      <td>3</td>\n",
       "      <td>5</td>\n",
       "      <td>3</td>\n",
       "    </tr>\n",
       "    <tr>\n",
       "      <th>24</th>\n",
       "      <td>City</td>\n",
       "      <td>Honda</td>\n",
       "      <td>3</td>\n",
       "      <td>Số sàn</td>\n",
       "      <td>3</td>\n",
       "    </tr>\n",
       "    <tr>\n",
       "      <th>25</th>\n",
       "      <td>Kona</td>\n",
       "      <td>Hyundai</td>\n",
       "      <td>2</td>\n",
       "      <td>Tự động</td>\n",
       "      <td>71</td>\n",
       "    </tr>\n",
       "    <tr>\n",
       "      <th>26</th>\n",
       "      <td>Kona</td>\n",
       "      <td>Hyundai</td>\n",
       "      <td>2</td>\n",
       "      <td>4</td>\n",
       "      <td>2</td>\n",
       "    </tr>\n",
       "    <tr>\n",
       "      <th>27</th>\n",
       "      <td>Elantra</td>\n",
       "      <td>Hyundai</td>\n",
       "      <td>1</td>\n",
       "      <td>Tự động</td>\n",
       "      <td>158</td>\n",
       "    </tr>\n",
       "    <tr>\n",
       "      <th>28</th>\n",
       "      <td>Elantra</td>\n",
       "      <td>Hyundai</td>\n",
       "      <td>1</td>\n",
       "      <td>Số sàn</td>\n",
       "      <td>19</td>\n",
       "    </tr>\n",
       "    <tr>\n",
       "      <th>29</th>\n",
       "      <td>Elantra</td>\n",
       "      <td>Hyundai</td>\n",
       "      <td>1</td>\n",
       "      <td>Bán tự động</td>\n",
       "      <td>1</td>\n",
       "    </tr>\n",
       "    <tr>\n",
       "      <th>30</th>\n",
       "      <td>Elantra</td>\n",
       "      <td>Hyundai</td>\n",
       "      <td>1</td>\n",
       "      <td>4</td>\n",
       "      <td>1</td>\n",
       "    </tr>\n",
       "    <tr>\n",
       "      <th>31</th>\n",
       "      <td>Seltos</td>\n",
       "      <td>Kia</td>\n",
       "      <td>1</td>\n",
       "      <td>Tự động</td>\n",
       "      <td>117</td>\n",
       "    </tr>\n",
       "    <tr>\n",
       "      <th>32</th>\n",
       "      <td>Seltos</td>\n",
       "      <td>Kia</td>\n",
       "      <td>1</td>\n",
       "      <td>5</td>\n",
       "      <td>1</td>\n",
       "    </tr>\n",
       "  </tbody>\n",
       "</table>\n",
       "</div>"
      ],
      "text/plain": [
       "         carmodel    carbrand  count      gearbox  count_full\n",
       "0            Vios      Toyota     32       Số sàn         304\n",
       "1            Vios      Toyota     32      Tự động         283\n",
       "2            Vios      Toyota     32            5          32\n",
       "3            Vios      Toyota     32  Bán tự động           3\n",
       "4   Corolla Cross      Toyota     27      Tự động         159\n",
       "5   Corolla Cross      Toyota     27            5          27\n",
       "6   Corolla Cross      Toyota     27       Số sàn           2\n",
       "7   Corolla Cross      Toyota     27  Bán tự động           1\n",
       "8            CR V       Honda     14      Tự động         219\n",
       "9            CR V       Honda     14            5          14\n",
       "10        Attrage  Mitsubishi     10      Tự động          96\n",
       "11        Attrage  Mitsubishi     10       Số sàn          62\n",
       "12        Attrage  Mitsubishi     10            5          10\n",
       "13      Outlander  Mitsubishi      8      Tự động          95\n",
       "14      Outlander  Mitsubishi      8            5           8\n",
       "15          Civic       Honda      7      Tự động         208\n",
       "16          Civic       Honda      7       Số sàn          33\n",
       "17          Civic       Honda      7            5           7\n",
       "18          Civic       Honda      7  Bán tự động           1\n",
       "19         Tucson     Hyundai      5      Tự động         226\n",
       "20         Tucson     Hyundai      5            4           5\n",
       "21         Tucson     Hyundai      5       Số sàn           2\n",
       "22           City       Honda      3      Tự động         256\n",
       "23           City       Honda      3            5           3\n",
       "24           City       Honda      3       Số sàn           3\n",
       "25           Kona     Hyundai      2      Tự động          71\n",
       "26           Kona     Hyundai      2            4           2\n",
       "27        Elantra     Hyundai      1      Tự động         158\n",
       "28        Elantra     Hyundai      1       Số sàn          19\n",
       "29        Elantra     Hyundai      1  Bán tự động           1\n",
       "30        Elantra     Hyundai      1            4           1\n",
       "31         Seltos         Kia      1      Tự động         117\n",
       "32         Seltos         Kia      1            5           1"
      ]
     },
     "execution_count": 17,
     "metadata": {},
     "output_type": "execute_result"
    }
   ],
   "source": [
    "# Kiểm tra các trường hợp có gearbox là \"4\", \"5\"\n",
    "check_gearbox = chotot.loc[chotot[\"gearbox\"].isin([\"4\",\"5\"]),[\"carmodel\",\"carbrand\"]].value_counts().reset_index()\n",
    "full_gearbox = chotot.loc[:,[\"carmodel\",\"carbrand\",\"gearbox\"]].value_counts().reset_index().rename(columns={\"count\":\"count_full\"})\n",
    "\n",
    "check_gearbox.merge(full_gearbox)"
   ]
  },
  {
   "cell_type": "code",
   "execution_count": 18,
   "metadata": {},
   "outputs": [
    {
     "data": {
      "text/plain": [
       "gearbox\n",
       "Tự động        14816\n",
       "Số sàn          5041\n",
       "Bán tự động       63\n",
       "Name: count, dtype: int64"
      ]
     },
     "execution_count": 18,
     "metadata": {},
     "output_type": "execute_result"
    }
   ],
   "source": [
    "# Kiểm tra các xe có thể có số sàn thì đều số tự động -> gán số tự động\n",
    "chotot.loc[:,\"gearbox\"] = chotot[\"gearbox\"].replace([\"4\",\"5\"],\"Tự động\")\n",
    "chotot.gearbox.value_counts()"
   ]
  },
  {
   "cell_type": "markdown",
   "metadata": {},
   "source": [
    "## 1.6.Nhiên liệu"
   ]
  },
  {
   "cell_type": "code",
   "execution_count": 19,
   "metadata": {},
   "outputs": [
    {
     "data": {
      "text/plain": [
       "fuel\n",
       "Xăng              16271\n",
       "Dầu                3278\n",
       "Điện                207\n",
       "Động cơ Hybrid      164\n",
       "Name: count, dtype: int64"
      ]
     },
     "execution_count": 19,
     "metadata": {},
     "output_type": "execute_result"
    }
   ],
   "source": [
    "chotot[\"fuel\"].value_counts()"
   ]
  },
  {
   "cell_type": "markdown",
   "metadata": {},
   "source": [
    "## 1.7.Nơi sản xuất"
   ]
  },
  {
   "cell_type": "code",
   "execution_count": 20,
   "metadata": {},
   "outputs": [
    {
     "data": {
      "text/plain": [
       "carorigin\n",
       "Việt Nam         9135\n",
       "Thái Lan         2559\n",
       "                 1886\n",
       "Nước khác        1625\n",
       "Hàn Quốc         1182\n",
       "Nhật Bản         1146\n",
       "Đang cập nhật     927\n",
       "Đức               605\n",
       "Mỹ                501\n",
       "Ấn Độ             196\n",
       "Trung Quốc        109\n",
       "Đài Loan           49\n",
       "Name: count, dtype: int64"
      ]
     },
     "execution_count": 20,
     "metadata": {},
     "output_type": "execute_result"
    }
   ],
   "source": [
    "# carorigin\n",
    "chotot[\"carorigin\"].value_counts()"
   ]
  },
  {
   "cell_type": "code",
   "execution_count": 21,
   "metadata": {},
   "outputs": [
    {
     "data": {
      "text/plain": [
       "carorigin\n",
       "Việt Nam      9135\n",
       "Thái Lan      2559\n",
       "Nước khác     1625\n",
       "Hàn Quốc      1182\n",
       "Nhật Bản      1146\n",
       "Đức            605\n",
       "Mỹ             501\n",
       "Ấn Độ          196\n",
       "Trung Quốc     109\n",
       "Đài Loan        49\n",
       "Name: count, dtype: int64"
      ]
     },
     "execution_count": 21,
     "metadata": {},
     "output_type": "execute_result"
    }
   ],
   "source": [
    "# Chuyển các giá trị null, \"Đang cập nhật\" về dạng NaN\n",
    "chotot.loc[:,\"carorigin\"] = chotot[\"carorigin\"].replace([\"Đang cập nhật\",\"\"],np.nan)\n",
    "chotot.carorigin.value_counts()"
   ]
  },
  {
   "cell_type": "markdown",
   "metadata": {},
   "source": [
    "## 1.8.Kiểu dáng"
   ]
  },
  {
   "cell_type": "code",
   "execution_count": 22,
   "metadata": {},
   "outputs": [
    {
     "data": {
      "text/plain": [
       "cartype\n",
       "                     15822\n",
       "SUV / Cross over      1597\n",
       "Sedan                 1235\n",
       "Minivan (MPV)          620\n",
       "Hatchback              308\n",
       "Pick-up (bán tải)      222\n",
       "Van                     52\n",
       "Kiểu dáng khác          48\n",
       "Coupe (2 cửa)           13\n",
       "Mui trần                 3\n",
       "Name: count, dtype: int64"
      ]
     },
     "execution_count": 22,
     "metadata": {},
     "output_type": "execute_result"
    }
   ],
   "source": [
    "# cartype\n",
    "chotot[\"cartype\"].value_counts()"
   ]
  },
  {
   "cell_type": "code",
   "execution_count": 23,
   "metadata": {},
   "outputs": [
    {
     "data": {
      "text/plain": [
       "cartype\n",
       "SUV / Cross over     1597\n",
       "Sedan                1235\n",
       "Minivan (MPV)         620\n",
       "Hatchback             308\n",
       "Pick-up (bán tải)     222\n",
       "Van                    52\n",
       "Coupe (2 cửa)          13\n",
       "Mui trần                3\n",
       "Name: count, dtype: int64"
      ]
     },
     "execution_count": 23,
     "metadata": {},
     "output_type": "execute_result"
    }
   ],
   "source": [
    "# Chuyển về dạng NaN đối với cartype trống, \"Kiểu dáng khác\"\n",
    "chotot.loc[:,\"cartype\"] = chotot[\"cartype\"].replace([\"\",\"Kiểu dáng khác\"],np.nan)\n",
    "chotot[\"cartype\"].value_counts()"
   ]
  },
  {
   "cell_type": "markdown",
   "metadata": {},
   "source": [
    "## 1.9.Số chỗ ngồi"
   ]
  },
  {
   "cell_type": "code",
   "execution_count": 24,
   "metadata": {},
   "outputs": [
    {
     "data": {
      "text/plain": [
       "carseats\n",
       "        19440\n",
       "5         267\n",
       "7         134\n",
       "16         27\n",
       "8          16\n",
       "4           9\n",
       "6           9\n",
       "2           9\n",
       "Khác        5\n",
       "9           3\n",
       "12          1\n",
       "Name: count, dtype: int64"
      ]
     },
     "execution_count": 24,
     "metadata": {},
     "output_type": "execute_result"
    }
   ],
   "source": [
    "# carseats\n",
    "chotot[\"carseats\"].value_counts()\n"
   ]
  },
  {
   "cell_type": "code",
   "execution_count": 25,
   "metadata": {},
   "outputs": [
    {
     "data": {
      "text/plain": [
       "carseats\n",
       "5.0     267\n",
       "7.0     134\n",
       "16.0     27\n",
       "8.0      16\n",
       "4.0       9\n",
       "6.0       9\n",
       "2.0       9\n",
       "9.0       3\n",
       "12.0      1\n",
       "Name: count, dtype: int64"
      ]
     },
     "execution_count": 25,
     "metadata": {},
     "output_type": "execute_result"
    }
   ],
   "source": [
    "# Chuyển các trường hợp trống về dạng NA và chuyển sang float\n",
    "chotot.loc[:,\"carseats\"] = chotot[\"carseats\"].replace([\"\",\"Khác\"],np.nan).astype(float)\n",
    "chotot[\"carseats\"].value_counts()"
   ]
  },
  {
   "cell_type": "markdown",
   "metadata": {},
   "source": [
    "# 2.Data bonbanh"
   ]
  },
  {
   "cell_type": "code",
   "execution_count": 26,
   "metadata": {},
   "outputs": [],
   "source": [
    "# Import data from pickle\n",
    "with open('car_detail_bonbanh.pkl','rb') as f:\n",
    "    bonbanh = pickle.load(f)"
   ]
  },
  {
   "cell_type": "code",
   "execution_count": 27,
   "metadata": {},
   "outputs": [],
   "source": [
    "# Đổi tên trường cho giống chotot\n",
    "bonbanh = bonbanh.rename(columns={'price':'Price', 'brand':'carbrand', 'model':'carmodel', 'Năm sản xuất':'mfdate', 'Số Km đã đi':'mileage_v2',\n",
    "                                  'Tình trạng':'condition_ad', 'Hộp số':'gearbox', 'Động cơ':'fuel', 'Xuất xứ':'carorigin', 'Kiểu dáng':'cartype',\n",
    "                                  'Số chỗ ngồi':'carseats', 'Màu ngoại thất':'col_out', 'Màu nội thất':'col_in','Số cửa':'carwindows',\n",
    "                                  'Dẫn động':'drive'})"
   ]
  },
  {
   "cell_type": "code",
   "execution_count": 28,
   "metadata": {},
   "outputs": [],
   "source": [
    "bonbanh[\"web\"] = \"bonbanh\""
   ]
  },
  {
   "cell_type": "code",
   "execution_count": 29,
   "metadata": {},
   "outputs": [
    {
     "name": "stdout",
     "output_type": "stream",
     "text": [
      "<class 'pandas.core.frame.DataFrame'>\n",
      "Index: 29757 entries, 0 to 0\n",
      "Data columns (total 18 columns):\n",
      " #   Column        Non-Null Count  Dtype \n",
      "---  ------        --------------  ----- \n",
      " 0   url           29757 non-null  object\n",
      " 1   post_date     29757 non-null  object\n",
      " 2   Price         29757 non-null  object\n",
      " 3   carbrand      29757 non-null  object\n",
      " 4   carmodel      29757 non-null  object\n",
      " 5   mfdate        29757 non-null  object\n",
      " 6   condition_ad  29757 non-null  object\n",
      " 7   mileage_v2    22979 non-null  object\n",
      " 8   carorigin     29757 non-null  object\n",
      " 9   cartype       29757 non-null  object\n",
      " 10  gearbox       29757 non-null  object\n",
      " 11  fuel          29757 non-null  object\n",
      " 12  col_out       29757 non-null  object\n",
      " 13  col_in        29757 non-null  object\n",
      " 14  carseats      29757 non-null  object\n",
      " 15  carwindows    29757 non-null  object\n",
      " 16  drive         29757 non-null  object\n",
      " 17  web           29757 non-null  object\n",
      "dtypes: object(18)\n",
      "memory usage: 4.3+ MB\n",
      "None\n"
     ]
    },
    {
     "data": {
      "text/html": [
       "<div>\n",
       "<style scoped>\n",
       "    .dataframe tbody tr th:only-of-type {\n",
       "        vertical-align: middle;\n",
       "    }\n",
       "\n",
       "    .dataframe tbody tr th {\n",
       "        vertical-align: top;\n",
       "    }\n",
       "\n",
       "    .dataframe thead th {\n",
       "        text-align: right;\n",
       "    }\n",
       "</style>\n",
       "<table border=\"1\" class=\"dataframe\">\n",
       "  <thead>\n",
       "    <tr style=\"text-align: right;\">\n",
       "      <th></th>\n",
       "      <th>url</th>\n",
       "      <th>post_date</th>\n",
       "      <th>Price</th>\n",
       "      <th>carbrand</th>\n",
       "      <th>carmodel</th>\n",
       "      <th>mfdate</th>\n",
       "      <th>condition_ad</th>\n",
       "      <th>mileage_v2</th>\n",
       "      <th>carorigin</th>\n",
       "      <th>cartype</th>\n",
       "      <th>gearbox</th>\n",
       "      <th>fuel</th>\n",
       "      <th>col_out</th>\n",
       "      <th>col_in</th>\n",
       "      <th>carseats</th>\n",
       "      <th>carwindows</th>\n",
       "      <th>drive</th>\n",
       "      <th>web</th>\n",
       "    </tr>\n",
       "  </thead>\n",
       "  <tbody>\n",
       "    <tr>\n",
       "      <th>0</th>\n",
       "      <td>https://bonbanh.com/xe-toyota-yaris-1.3-at-200...</td>\n",
       "      <td>1/04/2024</td>\n",
       "      <td>220 Triệu</td>\n",
       "      <td>Toyota</td>\n",
       "      <td>Yaris</td>\n",
       "      <td>2007</td>\n",
       "      <td>Xe đã dùng</td>\n",
       "      <td>120,000 Km</td>\n",
       "      <td>Nhập khẩu</td>\n",
       "      <td>Hatchback</td>\n",
       "      <td>Số tự động</td>\n",
       "      <td>Xăng  1.3 L</td>\n",
       "      <td>Ghi</td>\n",
       "      <td>Kem</td>\n",
       "      <td>5 chỗ</td>\n",
       "      <td>5 cửa</td>\n",
       "      <td>FWD - Dẫn động cầu trước</td>\n",
       "      <td>bonbanh</td>\n",
       "    </tr>\n",
       "    <tr>\n",
       "      <th>0</th>\n",
       "      <td>https://bonbanh.com/xe-toyota-land_cruiser-vx-...</td>\n",
       "      <td>1/04/2024</td>\n",
       "      <td>3 Tỷ 250 Triệu</td>\n",
       "      <td>Toyota</td>\n",
       "      <td>Land Cruiser</td>\n",
       "      <td>2016</td>\n",
       "      <td>Xe đã dùng</td>\n",
       "      <td>50,000 Km</td>\n",
       "      <td>Nhập khẩu</td>\n",
       "      <td>SUV</td>\n",
       "      <td>Số tự động</td>\n",
       "      <td>Xăng  4.6 L</td>\n",
       "      <td>Trắng</td>\n",
       "      <td>Kem</td>\n",
       "      <td>8 chỗ</td>\n",
       "      <td>5 cửa</td>\n",
       "      <td>AWD - 4 bánh toàn thời gian</td>\n",
       "      <td>bonbanh</td>\n",
       "    </tr>\n",
       "    <tr>\n",
       "      <th>0</th>\n",
       "      <td>https://bonbanh.com/xe-mercedes_benz-glc-300-4...</td>\n",
       "      <td>1/04/2024</td>\n",
       "      <td>1 Tỷ 666 Triệu</td>\n",
       "      <td>Mercedes Benz</td>\n",
       "      <td>GLC</td>\n",
       "      <td>2020</td>\n",
       "      <td>Xe đã dùng</td>\n",
       "      <td>55,000 Km</td>\n",
       "      <td>Lắp ráp trong nước</td>\n",
       "      <td>SUV</td>\n",
       "      <td>Số tự động</td>\n",
       "      <td>Xăng  2.0 L</td>\n",
       "      <td>Xanh</td>\n",
       "      <td>Đen</td>\n",
       "      <td>5 chỗ</td>\n",
       "      <td>5 cửa</td>\n",
       "      <td>AWD - 4 bánh toàn thời gian</td>\n",
       "      <td>bonbanh</td>\n",
       "    </tr>\n",
       "  </tbody>\n",
       "</table>\n",
       "</div>"
      ],
      "text/plain": [
       "                                                 url  post_date  \\\n",
       "0  https://bonbanh.com/xe-toyota-yaris-1.3-at-200...  1/04/2024   \n",
       "0  https://bonbanh.com/xe-toyota-land_cruiser-vx-...  1/04/2024   \n",
       "0  https://bonbanh.com/xe-mercedes_benz-glc-300-4...  1/04/2024   \n",
       "\n",
       "            Price       carbrand      carmodel mfdate condition_ad  \\\n",
       "0       220 Triệu         Toyota         Yaris   2007   Xe đã dùng   \n",
       "0  3 Tỷ 250 Triệu         Toyota  Land Cruiser   2016   Xe đã dùng   \n",
       "0  1 Tỷ 666 Triệu  Mercedes Benz           GLC   2020   Xe đã dùng   \n",
       "\n",
       "   mileage_v2           carorigin    cartype     gearbox         fuel col_out  \\\n",
       "0  120,000 Km           Nhập khẩu  Hatchback  Số tự động  Xăng  1.3 L     Ghi   \n",
       "0   50,000 Km           Nhập khẩu        SUV  Số tự động  Xăng  4.6 L   Trắng   \n",
       "0   55,000 Km  Lắp ráp trong nước        SUV  Số tự động  Xăng  2.0 L    Xanh   \n",
       "\n",
       "  col_in carseats carwindows                        drive      web  \n",
       "0    Kem    5 chỗ      5 cửa     FWD - Dẫn động cầu trước  bonbanh  \n",
       "0    Kem    8 chỗ      5 cửa  AWD - 4 bánh toàn thời gian  bonbanh  \n",
       "0    Đen    5 chỗ      5 cửa  AWD - 4 bánh toàn thời gian  bonbanh  "
      ]
     },
     "execution_count": 29,
     "metadata": {},
     "output_type": "execute_result"
    }
   ],
   "source": [
    "# Summarize data\n",
    "print(bonbanh.info())\n",
    "bonbanh.head(3)"
   ]
  },
  {
   "cell_type": "code",
   "execution_count": 30,
   "metadata": {},
   "outputs": [
    {
     "data": {
      "text/plain": [
       "url             29747\n",
       "Price            2179\n",
       "mileage_v2       1679\n",
       "carmodel          480\n",
       "post_date         117\n",
       "fuel               97\n",
       "carbrand           77\n",
       "mfdate             36\n",
       "carseats           19\n",
       "col_in             18\n",
       "col_out            18\n",
       "cartype            10\n",
       "carwindows          8\n",
       "drive               5\n",
       "gearbox             2\n",
       "carorigin           2\n",
       "condition_ad        2\n",
       "web                 1\n",
       "dtype: int64"
      ]
     },
     "execution_count": 30,
     "metadata": {},
     "output_type": "execute_result"
    }
   ],
   "source": [
    "# Kiểm tra các giá trị unique\n",
    "bonbanh.nunique().sort_values(ascending=False)"
   ]
  },
  {
   "cell_type": "markdown",
   "metadata": {},
   "source": [
    "## 2.1.Post_date"
   ]
  },
  {
   "cell_type": "code",
   "execution_count": 31,
   "metadata": {},
   "outputs": [
    {
     "data": {
      "text/plain": [
       "post_date\n",
       "2/04/2024     8740\n",
       "1/04/2024     7037\n",
       "31/03/2024    1753\n",
       "30/03/2024     910\n",
       "29/03/2024     611\n",
       "              ... \n",
       "12/07/2019       1\n",
       "29/08/2019       1\n",
       "12/09/2019       1\n",
       "10/12/2023       1\n",
       "13/06/2019       1\n",
       "Name: count, Length: 117, dtype: int64"
      ]
     },
     "execution_count": 31,
     "metadata": {},
     "output_type": "execute_result"
    }
   ],
   "source": [
    "# Kiểm tra trường post_date\n",
    "bonbanh[\"post_date\"].value_counts()"
   ]
  },
  {
   "cell_type": "code",
   "execution_count": 32,
   "metadata": {},
   "outputs": [],
   "source": [
    "# Chuyển về dạng date\n",
    "bonbanh[\"post_date\"] = pd.to_datetime(bonbanh[\"post_date\"], format='%d/%m/%Y')"
   ]
  },
  {
   "cell_type": "markdown",
   "metadata": {},
   "source": [
    "## 2.2.Năm sản xuất"
   ]
  },
  {
   "cell_type": "code",
   "execution_count": 33,
   "metadata": {},
   "outputs": [
    {
     "data": {
      "text/plain": [
       "mfdate\n",
       "2024    4443\n",
       "2022    3821\n",
       "2021    3128\n",
       "2023    2877\n",
       "2019    2344\n",
       "2020    2239\n",
       "2018    1897\n",
       "2016    1497\n",
       "2017    1332\n",
       "2015    1114\n",
       "2014     799\n",
       "2009     625\n",
       "2010     591\n",
       "2011     497\n",
       "2013     479\n",
       "2008     463\n",
       "2007     344\n",
       "2012     312\n",
       "2004     197\n",
       "2005     190\n",
       "2006     150\n",
       "2003     142\n",
       "2002      66\n",
       "2001      58\n",
       "2000      39\n",
       "1989      24\n",
       "1992      14\n",
       "1993      13\n",
       "1995      12\n",
       "1996       9\n",
       "1999       9\n",
       "1998       9\n",
       "1997       8\n",
       "1994       6\n",
       "1991       5\n",
       "1990       4\n",
       "Name: count, dtype: int64"
      ]
     },
     "execution_count": 33,
     "metadata": {},
     "output_type": "execute_result"
    }
   ],
   "source": [
    "bonbanh[\"mfdate\"].value_counts()"
   ]
  },
  {
   "cell_type": "markdown",
   "metadata": {},
   "source": [
    "## 2.3.Số KM đã đi"
   ]
  },
  {
   "cell_type": "code",
   "execution_count": 34,
   "metadata": {},
   "outputs": [
    {
     "data": {
      "text/plain": [
       "mileage_v2\n",
       "0 Km          3903\n",
       "50,000 Km      718\n",
       "60,000 Km      651\n",
       "30,000 Km      640\n",
       "40,000 Km      606\n",
       "              ... \n",
       "15,139 Km        1\n",
       "30,789 Km        1\n",
       "118,170 Km       1\n",
       "37,900 Km        1\n",
       "7,129 Km         1\n",
       "Name: count, Length: 1679, dtype: int64"
      ]
     },
     "execution_count": 34,
     "metadata": {},
     "output_type": "execute_result"
    }
   ],
   "source": [
    "bonbanh[\"mileage_v2\"].value_counts()"
   ]
  },
  {
   "cell_type": "code",
   "execution_count": 35,
   "metadata": {},
   "outputs": [
    {
     "data": {
      "text/plain": [
       "mfdate\n",
       "2019    318\n",
       "2016    317\n",
       "2018    272\n",
       "2021    272\n",
       "2015    271\n",
       "2009    253\n",
       "2017    220\n",
       "2020    217\n",
       "2022    215\n",
       "2014    201\n",
       "2008    176\n",
       "2010    169\n",
       "2011    169\n",
       "2007    131\n",
       "2012    125\n",
       "2013    107\n",
       "2005     77\n",
       "2004     73\n",
       "2003     60\n",
       "2006     56\n",
       "2023     54\n",
       "2002     37\n",
       "2001     34\n",
       "1989     17\n",
       "2000     17\n",
       "1992      7\n",
       "1993      7\n",
       "1995      6\n",
       "1999      5\n",
       "1996      5\n",
       "1998      4\n",
       "1997      3\n",
       "1994      3\n",
       "2024      2\n",
       "1990      2\n",
       "1991      1\n",
       "Name: count, dtype: int64"
      ]
     },
     "execution_count": 35,
     "metadata": {},
     "output_type": "execute_result"
    }
   ],
   "source": [
    "bonbanh.loc[bonbanh[\"mileage_v2\"]==\"0 Km\",\"mfdate\"].value_counts()"
   ]
  },
  {
   "cell_type": "code",
   "execution_count": 36,
   "metadata": {},
   "outputs": [],
   "source": [
    "# Chuyển về định dạng float\n",
    "bonbanh.loc[:,\"mileage_v2\"] = bonbanh['mileage_v2'].str.replace(' Km', '').str.replace(',', '').astype(float)\n",
    "\n",
    "# Các trường hợp bằng 0 chuyển về nan (do các xe này đều sản xuất xa, không phải không đi km nào)\n",
    "bonbanh.loc[:,\"mileage_v2\"] = bonbanh[\"mileage_v2\"].replace({0:np.nan})"
   ]
  },
  {
   "cell_type": "markdown",
   "metadata": {},
   "source": [
    "## 2.4.Tình trạng"
   ]
  },
  {
   "cell_type": "code",
   "execution_count": 37,
   "metadata": {},
   "outputs": [
    {
     "data": {
      "text/plain": [
       "condition_ad\n",
       "Xe đã dùng    22979\n",
       "Xe mới         6778\n",
       "Name: count, dtype: int64"
      ]
     },
     "execution_count": 37,
     "metadata": {},
     "output_type": "execute_result"
    }
   ],
   "source": [
    "bonbanh[\"condition_ad\"].value_counts()"
   ]
  },
  {
   "cell_type": "code",
   "execution_count": 38,
   "metadata": {},
   "outputs": [
    {
     "data": {
      "text/plain": [
       "condition_ad\n",
       "Đã sử dụng    22979\n",
       "Mới            6778\n",
       "Name: count, dtype: int64"
      ]
     },
     "execution_count": 38,
     "metadata": {},
     "output_type": "execute_result"
    }
   ],
   "source": [
    "# Cập nhật để thống nhất với bộ chotot\n",
    "bonbanh.loc[:,\"condition_ad\"] = bonbanh[\"condition_ad\"].replace({\"Xe đã dùng\":\"Đã sử dụng\", \"Xe mới\":\"Mới\"})\n",
    "bonbanh[\"condition_ad\"].value_counts()"
   ]
  },
  {
   "cell_type": "markdown",
   "metadata": {},
   "source": [
    "## 2.5.Hộp số"
   ]
  },
  {
   "cell_type": "code",
   "execution_count": 39,
   "metadata": {},
   "outputs": [
    {
     "data": {
      "text/plain": [
       "gearbox\n",
       "Số tự động    25404\n",
       "Số tay         4353\n",
       "Name: count, dtype: int64"
      ]
     },
     "execution_count": 39,
     "metadata": {},
     "output_type": "execute_result"
    }
   ],
   "source": [
    "bonbanh[\"gearbox\"].value_counts()"
   ]
  },
  {
   "cell_type": "code",
   "execution_count": 40,
   "metadata": {},
   "outputs": [
    {
     "data": {
      "text/plain": [
       "gearbox\n",
       "Tự động    25404\n",
       "Số sàn      4353\n",
       "Name: count, dtype: int64"
      ]
     },
     "execution_count": 40,
     "metadata": {},
     "output_type": "execute_result"
    }
   ],
   "source": [
    "# Cập nhật để thống nhất với bộ chotot\n",
    "bonbanh.loc[:,\"gearbox\"] = bonbanh[\"gearbox\"].replace({\"Số tự động\":\"Tự động\", \"Số tay\":\"Số sàn\"})\n",
    "bonbanh[\"gearbox\"].value_counts()"
   ]
  },
  {
   "cell_type": "markdown",
   "metadata": {},
   "source": [
    "## 2.6.Nhiên liệu"
   ]
  },
  {
   "cell_type": "code",
   "execution_count": 41,
   "metadata": {},
   "outputs": [
    {
     "data": {
      "text/plain": [
       "fuel\n",
       "Xăng  2.0 L      7003\n",
       "Xăng  1.5 L      5234\n",
       "Dầu  2.0 L       1579\n",
       "Dầu  2.2 L       1412\n",
       "Xăng  1.6 L      1376\n",
       "                 ... \n",
       "Dầu  5.7 L          1\n",
       "Hybrid  1.3 L       1\n",
       "Dầu  11.1 L         1\n",
       "Xăng  2.8 L         1\n",
       "Dầu  3.4 L          1\n",
       "Name: count, Length: 97, dtype: int64"
      ]
     },
     "execution_count": 41,
     "metadata": {},
     "output_type": "execute_result"
    }
   ],
   "source": [
    "bonbanh[\"fuel\"].value_counts()"
   ]
  },
  {
   "cell_type": "code",
   "execution_count": 42,
   "metadata": {},
   "outputs": [
    {
     "data": {
      "text/plain": [
       "fuel\n",
       "Xăng      24136\n",
       "Dầu        4751\n",
       "Hybrid      456\n",
       "Điện        413\n",
       "-             1\n",
       "Name: count, dtype: int64"
      ]
     },
     "execution_count": 42,
     "metadata": {},
     "output_type": "execute_result"
    }
   ],
   "source": [
    "# Lấy thông tin nhiên liệu\n",
    "bonbanh.loc[:,\"fuel\"] = bonbanh[\"fuel\"].apply(lambda x: x.split(\" \")[0])\n",
    "bonbanh[\"fuel\"].value_counts()"
   ]
  },
  {
   "cell_type": "code",
   "execution_count": 43,
   "metadata": {},
   "outputs": [
    {
     "data": {
      "text/plain": [
       "fuel\n",
       "Xăng              24136\n",
       "Dầu                4751\n",
       "Động cơ Hybrid      456\n",
       "Điện                413\n",
       "Name: count, dtype: int64"
      ]
     },
     "execution_count": 43,
     "metadata": {},
     "output_type": "execute_result"
    }
   ],
   "source": [
    "# Cập nhật để thống nhất với bộ chotot\n",
    "bonbanh.loc[:,\"fuel\"] = bonbanh[\"fuel\"].replace({\"Hybrid\":\"Động cơ Hybrid\",\"-\":np.nan})\n",
    "bonbanh[\"fuel\"].value_counts()"
   ]
  },
  {
   "cell_type": "markdown",
   "metadata": {},
   "source": [
    "## 2.7.Nơi sản xuất"
   ]
  },
  {
   "cell_type": "code",
   "execution_count": 44,
   "metadata": {},
   "outputs": [
    {
     "data": {
      "text/plain": [
       "carorigin\n",
       "Lắp ráp trong nước    16727\n",
       "Nhập khẩu             13030\n",
       "Name: count, dtype: int64"
      ]
     },
     "execution_count": 44,
     "metadata": {},
     "output_type": "execute_result"
    }
   ],
   "source": [
    "# carorigin\n",
    "bonbanh[\"carorigin\"].value_counts()"
   ]
  },
  {
   "cell_type": "markdown",
   "metadata": {},
   "source": [
    "## 2.8.Kiểu dáng"
   ]
  },
  {
   "cell_type": "code",
   "execution_count": 45,
   "metadata": {},
   "outputs": [
    {
     "data": {
      "text/plain": [
       "cartype\n",
       "SUV                      11728\n",
       "Sedan                     9178\n",
       "Crossover                 2763\n",
       "Hatchback                 2141\n",
       "Bán tải / Pickup        1878\n",
       "Van/Minivan               1485\n",
       "Truck                      246\n",
       "Coupe                      215\n",
       "Convertible/Cabriolet      115\n",
       "Wagon                        8\n",
       "Name: count, dtype: int64"
      ]
     },
     "execution_count": 45,
     "metadata": {},
     "output_type": "execute_result"
    }
   ],
   "source": [
    "# cartype\n",
    "bonbanh[\"cartype\"].value_counts()"
   ]
  },
  {
   "cell_type": "markdown",
   "metadata": {},
   "source": [
    "## 2.9.Số chỗ ngồi"
   ]
  },
  {
   "cell_type": "code",
   "execution_count": 46,
   "metadata": {},
   "outputs": [
    {
     "data": {
      "text/plain": [
       "carseats\n",
       "5 chỗ     19879\n",
       "7 chỗ      6933\n",
       "8 chỗ      1118\n",
       "4 chỗ       717\n",
       "2 chỗ       381\n",
       "16 chỗ      237\n",
       "3 chỗ       199\n",
       "6 chỗ       195\n",
       "9 chỗ        38\n",
       "10 chỗ       26\n",
       "29 chỗ       16\n",
       "12 chỗ        4\n",
       "15 chỗ        4\n",
       "0 chỗ         3\n",
       "47 chỗ        2\n",
       "40 chỗ        2\n",
       "45 chỗ        1\n",
       "43 chỗ        1\n",
       "46 chỗ        1\n",
       "Name: count, dtype: int64"
      ]
     },
     "execution_count": 46,
     "metadata": {},
     "output_type": "execute_result"
    }
   ],
   "source": [
    "# carseats\n",
    "bonbanh[\"carseats\"].value_counts()"
   ]
  },
  {
   "cell_type": "code",
   "execution_count": 47,
   "metadata": {},
   "outputs": [
    {
     "data": {
      "text/plain": [
       "carseats\n",
       "5.0     19879\n",
       "7.0      6933\n",
       "8.0      1118\n",
       "4.0       717\n",
       "2.0       381\n",
       "16.0      237\n",
       "3.0       199\n",
       "6.0       195\n",
       "9.0        38\n",
       "10.0       26\n",
       "29.0       16\n",
       "12.0        4\n",
       "15.0        4\n",
       "47.0        2\n",
       "40.0        2\n",
       "45.0        1\n",
       "43.0        1\n",
       "46.0        1\n",
       "Name: count, dtype: int64"
      ]
     },
     "execution_count": 47,
     "metadata": {},
     "output_type": "execute_result"
    }
   ],
   "source": [
    "# Chuyển về định dạng float\n",
    "bonbanh.loc[:,\"carseats\"] = bonbanh[\"carseats\"].str.replace(\" chỗ\", \"\").astype(float)\n",
    "\n",
    "# Các trường hợp bằng 0 chuyển về nan\n",
    "bonbanh.loc[:,\"carseats\"] = bonbanh[\"carseats\"].replace({0:np.nan})\n",
    "bonbanh[\"carseats\"].value_counts()"
   ]
  },
  {
   "cell_type": "markdown",
   "metadata": {},
   "source": [
    "## 2.10.Price"
   ]
  },
  {
   "cell_type": "code",
   "execution_count": 48,
   "metadata": {},
   "outputs": [
    {
     "data": {
      "text/plain": [
       "Price\n",
       "450 Triệu          176\n",
       "465 Triệu          168\n",
       "495 Triệu          157\n",
       "485 Triệu          154\n",
       "650 Triệu          149\n",
       "                  ... \n",
       "3 Tỷ 91 Triệu        1\n",
       "11 Tỷ 690 Triệu      1\n",
       "2 Tỷ 349 Triệu       1\n",
       "4 Tỷ 369 Triệu       1\n",
       "2 Tỷ 686 Triệu       1\n",
       "Name: count, Length: 2179, dtype: int64"
      ]
     },
     "execution_count": 48,
     "metadata": {},
     "output_type": "execute_result"
    }
   ],
   "source": [
    "# Price\n",
    "bonbanh[\"Price\"].value_counts()"
   ]
  },
  {
   "cell_type": "code",
   "execution_count": 49,
   "metadata": {},
   "outputs": [],
   "source": [
    "# Chuyển sang dạng int\n",
    "bonbanh[\"Price\"] = bonbanh[\"Price\"].apply(lambda x: 1000000*sum(list(map(int,x.replace(\" Triệu\",\"\").replace(\" Tỷ\",\"000\").split(\" \")))))"
   ]
  },
  {
   "cell_type": "markdown",
   "metadata": {},
   "source": [
    "## 2.11.Drop các trường không trùng bộ chotot"
   ]
  },
  {
   "cell_type": "code",
   "execution_count": 50,
   "metadata": {},
   "outputs": [],
   "source": [
    "bonbanh.drop([\"col_out\",\"col_in\",\"carwindows\",\"drive\"], axis=1, inplace=True)\n"
   ]
  },
  {
   "cell_type": "markdown",
   "metadata": {},
   "source": [
    "# 3.Ghép 2 bộ dữ liệu"
   ]
  },
  {
   "cell_type": "code",
   "execution_count": 51,
   "metadata": {},
   "outputs": [
    {
     "data": {
      "text/plain": [
       "(49677, 14)"
      ]
     },
     "execution_count": 51,
     "metadata": {},
     "output_type": "execute_result"
    }
   ],
   "source": [
    "car = pd.concat([chotot,bonbanh], axis=0, ignore_index=True)\n",
    "car.shape"
   ]
  },
  {
   "cell_type": "code",
   "execution_count": 52,
   "metadata": {},
   "outputs": [
    {
     "name": "stdout",
     "output_type": "stream",
     "text": [
      "<class 'pandas.core.frame.DataFrame'>\n",
      "RangeIndex: 49677 entries, 0 to 49676\n",
      "Data columns (total 14 columns):\n",
      " #   Column        Non-Null Count  Dtype         \n",
      "---  ------        --------------  -----         \n",
      " 0   url           49677 non-null  object        \n",
      " 1   post_date     49677 non-null  datetime64[ns]\n",
      " 2   Price         49677 non-null  int64         \n",
      " 3   carbrand      49677 non-null  object        \n",
      " 4   carmodel      49677 non-null  object        \n",
      " 5   mfdate        49677 non-null  object        \n",
      " 6   mileage_v2    36258 non-null  object        \n",
      " 7   condition_ad  49677 non-null  object        \n",
      " 8   gearbox       49677 non-null  object        \n",
      " 9   fuel          49676 non-null  object        \n",
      " 10  carorigin     46864 non-null  object        \n",
      " 11  cartype       33807 non-null  object        \n",
      " 12  carseats      30229 non-null  object        \n",
      " 13  web           49677 non-null  object        \n",
      "dtypes: datetime64[ns](1), int64(1), object(12)\n",
      "memory usage: 5.3+ MB\n"
     ]
    }
   ],
   "source": [
    "# Kiểm tra thông tin các bảng dữ liệu\n",
    "car.info()"
   ]
  },
  {
   "cell_type": "code",
   "execution_count": 53,
   "metadata": {},
   "outputs": [
    {
     "data": {
      "text/plain": [
       "carseats        19448\n",
       "cartype         15870\n",
       "mileage_v2      13419\n",
       "carorigin        2813\n",
       "fuel                1\n",
       "url                 0\n",
       "post_date           0\n",
       "Price               0\n",
       "carbrand            0\n",
       "carmodel            0\n",
       "mfdate              0\n",
       "condition_ad        0\n",
       "gearbox             0\n",
       "web                 0\n",
       "dtype: int64"
      ]
     },
     "execution_count": 53,
     "metadata": {},
     "output_type": "execute_result"
    }
   ],
   "source": [
    "# Kiểm tra nan trong bộ dữ liệu\n",
    "car.isna().sum().sort_values(ascending=False)"
   ]
  },
  {
   "cell_type": "markdown",
   "metadata": {},
   "source": [
    "Kiểm tra giá trị trong từng trường dữ liệu"
   ]
  },
  {
   "cell_type": "markdown",
   "metadata": {},
   "source": [
    "## 3.1.Post_date"
   ]
  },
  {
   "cell_type": "code",
   "execution_count": 54,
   "metadata": {},
   "outputs": [
    {
     "data": {
      "text/plain": [
       "(42148, 14)"
      ]
     },
     "execution_count": 54,
     "metadata": {},
     "output_type": "execute_result"
    }
   ],
   "source": [
    "# Loại các quan sát có thời điểm đăng quá 1 tháng để không bị out-of-date\n",
    "car = car.loc[car[\"post_date\"]>\"2024-03-03\",:]\n",
    "car.shape"
   ]
  },
  {
   "cell_type": "markdown",
   "metadata": {},
   "source": [
    "## 3.2.Tình trạng và số km đã đi"
   ]
  },
  {
   "cell_type": "code",
   "execution_count": 55,
   "metadata": {},
   "outputs": [
    {
     "data": {
      "text/plain": [
       "web      condition_ad\n",
       "bonbanh  Mới             6245\n",
       "         Đã sử dụng      2441\n",
       "chotot   Mới             2105\n",
       "         Đã sử dụng       258\n",
       "Name: count, dtype: int64"
      ]
     },
     "execution_count": 55,
     "metadata": {},
     "output_type": "execute_result"
    }
   ],
   "source": [
    "car.loc[car[\"mileage_v2\"].isna(),[\"web\",\"condition_ad\"]].value_counts()"
   ]
  },
  {
   "cell_type": "code",
   "execution_count": 56,
   "metadata": {},
   "outputs": [
    {
     "data": {
      "text/plain": [
       "(39449, 14)"
      ]
     },
     "execution_count": 56,
     "metadata": {},
     "output_type": "execute_result"
    }
   ],
   "source": [
    "# Gán các trường hợp Mới có mileage_v2=0 và drop các trường hợp trống thông tin số km với Đã sử dụng\n",
    "car.loc[car[\"condition_ad\"]==\"Mới\",\"mileage_v2\"] = 0\n",
    "car.dropna(subset=\"mileage_v2\", axis=0, inplace=True)\n",
    "car.shape"
   ]
  },
  {
   "cell_type": "code",
   "execution_count": 57,
   "metadata": {},
   "outputs": [],
   "source": [
    "# Chuyển dạng dữ liệu\n",
    "car[\"mileage_v2\"] = car[\"mileage_v2\"].astype(int)\n",
    "car[\"mfdate\"] = car[\"mfdate\"].astype(int)"
   ]
  },
  {
   "cell_type": "markdown",
   "metadata": {},
   "source": [
    "## 3.3.Hãng xe và dòng xe"
   ]
  },
  {
   "cell_type": "code",
   "execution_count": 58,
   "metadata": {},
   "outputs": [],
   "source": [
    "# Kiểm tra giá trị trong trường\n",
    "car[[\"carbrand\",\"carmodel\"]].sort_values(by=[\"carbrand\",\"carmodel\"]).groupby([\"carbrand\",\"carmodel\"]).size().to_clipboard()"
   ]
  },
  {
   "cell_type": "code",
   "execution_count": 59,
   "metadata": {},
   "outputs": [
    {
     "data": {
      "text/plain": [
       "(39449, 14)"
      ]
     },
     "execution_count": 59,
     "metadata": {},
     "output_type": "execute_result"
    }
   ],
   "source": [
    "car.shape"
   ]
  },
  {
   "cell_type": "code",
   "execution_count": 60,
   "metadata": {},
   "outputs": [],
   "source": [
    "# Thống nhất dòng xe và loại các dòng xe có dưới 10 quan sát (không đảm bảo thống kê)\n",
    "car = car[~(car[\"carbrand\"].isin([\"Alfa Romeo\",\"Aston Martin\",\"Baic\",\"Changan\",\"Chery\",\"Chrysler\",\"Citroen\",\n",
    "                                  \"Daihatsu\",\"Dodge\",\"Dongben\",\"Dongfeng\",\"Ferrari\",\"GMC\",\"Gaz\",\"Geely\",\"Genesis\",\n",
    "                                  \"Haima\",\"Hãng khác\",\"Hino\",\"HongQi\",\"Hongqi\",\"Infiniti\",\"JRD\",\"Lamborghini\",\n",
    "                                  \"Lifan\",\"Lincoln\",\"Luxgen\",\"Lynk & Co\",\"Lynk&Co\",\"Maserati\",\"Maybach\",\"McLaren\",\n",
    "                                  \"Mekong\",\"Morgan\",\"Proton\",\"Renault\",\"SYM\",\"Samsung\",\"Smart\",\"TQ Wuling\",\"Teraco\",\n",
    "                                  \"Thaco\",\"Tobe\",\"UAZ\",\"Vinaxuki\",\"Zotye\"]))]\n",
    "\n",
    "car = car[~((car[\"carbrand\"]==\"Acura\") & (car[\"carmodel\"]!=\"MDX\"))]\n",
    "car = car[~((car[\"carbrand\"]==\"Audi\") & (car[\"carmodel\"].isin([\"A4\",\"A5\",\"A6\",\"A8\",\"Q2\",\"Q3\",\"Q5\",\"Q7\",\"Q8\"])==False))]\n",
    "car = car[~((car[\"carbrand\"]==\"BMW\") & (car[\"carmodel\"].isin([\"3 Series\",\"4 Series\",\"5 Series\",\"7 Series\",\"X1\",\"X3\",\"X4\",\"X5\",\"X6\",\"X7\",\"Z4\"])==False))]\n",
    "car = car[~((car[\"carbrand\"]==\"Bentley\") & (car[\"carmodel\"]==\"Azure\"))]\n",
    "car = car[~((car[\"carbrand\"]==\"Cadillac\") & (car[\"carmodel\"]!=\"Escalade\"))]\n",
    "car = car[~((car[\"carbrand\"]==\"Chevrolet\") & (car[\"carmodel\"].isin([\"Camaro\",\"Chevyvan\",\"Dòng khác\",\"Matiz\",\"Nubira\",\"Trax\"])))]\n",
    "car = car[~((car[\"carbrand\"]==\"Daewoo\") & (car[\"carmodel\"].isin([\"Gentra\",\"GentraX\",\"Lacetti\",\"Lanos\",\"Magnus\",\"Matiz\",\"Nubira\"])==False))]\n",
    "car = car[~((car[\"carbrand\"]==\"Fiat\") & (car[\"carmodel\"]!=\"Siena\"))]\n",
    "\n",
    "car = car[~((car[\"carbrand\"]==\"Ford\") & (car[\"carmodel\"].isin([\"Acononline\",\"Dòng khác\",\"F350\",\"Flex\",\"Imax\"])))]\n",
    "car[\"carmodel\"].replace({\"F 150\":\"F150\"},inplace=True)\n",
    "\n",
    "car = car[~((car[\"carbrand\"]==\"Honda\") & (car[\"carmodel\"].isin([\"Dòng khác\",\"Insight\",\"Shuttle\"])))]\n",
    "car[\"carmodel\"].replace({\"BR V\":\"BR-V\",\"CR V\":\"CRV\",\"HRV\":\"HR-V\"},inplace=True)\n",
    "\n",
    "car = car[~((car[\"carbrand\"]==\"Hyundai\") & (car[\"carmodel\"].isin([\"Azera\",\"Click\",\"Coupe\",\"Dòng khác\",\"Eon\",\"Equus\",\"Excel\",\"Galloper\",\"Sota\",\"H 1\",\"Khác\",\"Libero\",\n",
    "                                                                  \"Tiburon\",\"Trajet\",\"Tuscani\",\"Universe\",\"Universe Xpress Luxury\",\"Veracruz\",\"Verna\",\"XG\",\"Xcent\"])))]\n",
    "car[\"carmodel\"].replace({\"Santa Fe\":\"SantaFe\",\"Grand i10\":\"i10\"},inplace=True)\n",
    "\n",
    "car = car[~((car[\"carbrand\"]==\"Isuzu\") & (car[\"carmodel\"].isin([\"Dmax\",\"Hi lander\",\"MU-X\",\"Mu X\",\"QKR\"])==False))]\n",
    "car[\"carmodel\"].replace({\"Mu X\":\"MU-X\"},inplace=True)\n",
    "\n",
    "car = car[~((car[\"carbrand\"]==\"Jaguar\") & (car[\"carmodel\"].isin([\"F Type\",\"XE\"])))]\n",
    "car[\"carmodel\"].replace({\"F PACE\":\"F-Pace\"},inplace=True)\n",
    "\n",
    "car = car[~((car[\"carbrand\"]==\"Jeep\") & (car[\"carmodel\"].isin([\"A2\",\"Wrangler\"])==False))]\n",
    "car = car[~((car[\"carbrand\"]==\"Kia\") & (car[\"carmodel\"].isin([\"Bongo\",\"Cadenza\",\"Dòng khác\",\"Enterprise\",\"Frontier\",\"Khác\",\"K3000S\",\"Quoris\",\"Ray\",\"Sephia\",\"Soul\"])))]\n",
    "car = car[~((car[\"carbrand\"]==\"LandRover\") & (car[\"carmodel\"].isin([\"Freelander\",\"Range Rover Vogue\"])))]\n",
    "\n",
    "car = car[~((car[\"carbrand\"]==\"Lexus\") & (car[\"carmodel\"].isin([\"Dòng khác\",\"RC\"])))]\n",
    "car[\"carmodel\"].replace({\"LM350\":\"LM\",\"LX 600\":\"LX\"},inplace=True)\n",
    "\n",
    "car = car[~((car[\"carbrand\"]==\"MG\") & (car[\"carmodel\"].isin([\"Dòng khác\"])))]\n",
    "\n",
    "car = car[~((car[\"carbrand\"]==\"Mazda\") & (car[\"carmodel\"].isin([\"Atenza\",\"Dòng khác\",\"Premacy\"])))]\n",
    "car[\"carmodel\"].replace({\"BT 50\":\"BT50\",\"CX 3\":\"CX3\",\"CX 30\":\"CX-30\",\"CX 5\":\"CX5\",\"CX 8\":\"CX8\",\"CX 9\":\"CX9\"},inplace=True)\n",
    "\n",
    "car = car[~((car[\"carbrand\"]==\"Mercedes Benz\") & (car[\"carmodel\"].isin([\"190\",\"AMG\",\"AMG GT\",\"B Class\",\"CL Class\",\"Dòng khác\",\"CLK Class\",\"CLS Class\",\n",
    "                                                                        \"EQE\",\"GT Coupe\",\"M Class\",\"MB\",\"SL Class\",\"SLC\",\"SLK Class\"])))]\n",
    "car[\"carmodel\"].replace({\"A class\":\"A Class\",\"C class\":\"C Class\",\"CLA class\":\"CLA Class\",\"E class\":\"E Class\",\"G class\":\"G Class\",\"GL\":\"GL Class\",\n",
    "                         \"GLA class\":\"GLA Class\",\"GLC\":\"GLC Class\",\"GLS\":\"GLS Class\",\"R class\":\"R Class\",\"S class\":\"S Class\",\"V class\":\"V Class\"},inplace=True)\n",
    "\n",
    "car = car[~((car[\"carbrand\"]==\"Mini\") & (car[\"carmodel\"].isin([\"Cooper\"])==False))]\n",
    "\n",
    "car = car[~((car[\"carbrand\"]==\"Mitsubishi\") & (car[\"carmodel\"].isin([\"Attrage\",\"Grandis\",\"Jolie\",\"Lancer\",\"Mirage\",\"Outlander\",\"Outlander Sport\",\"Pajero\",\n",
    "                                                                     \"Pajero Sport\",\"Triton\",\"XFC\",\"Xforce\",\"Xpander\",\"Xpander Cross\"])==False))]\n",
    "car[\"carmodel\"].replace({\"Outlander Sport\":\"Outlander\"},inplace=True)\n",
    "\n",
    "car = car[~((car[\"carbrand\"]==\"Nissan\") & (car[\"carmodel\"].isin([\"Almera\",\"Grand livina\",\"Kicks\",\"Livina\",\"Navara\",\"Sunny\",\"Teana\",\"Terra\",\n",
    "                                                                \"X Terra\",\"X trail\"])==False))]\n",
    "car[\"carmodel\"].replace({\"Grand livina\":\"Livina\",\"X Terra\":\"Terra\",\"X trail\":\"X Trail\"},inplace=True)\n",
    "\n",
    "car = car[~((car[\"carbrand\"]==\"Peugeot\") & (car[\"carmodel\"].isin([\"107\",\"405\",\"508\",\"RCZ\"])))]\n",
    "car = car[~((car[\"carbrand\"]==\"Porsche\") & (car[\"carmodel\"].isin([\"Boxster\",\"Cayman\",\"Dòng khác\",\"Taycan\"])))]\n",
    "car = car[~((car[\"carbrand\"]==\"Rolls Royce\") & (car[\"carmodel\"].isin([\"Dawn\"])))]\n",
    "car = car[~((car[\"carbrand\"]==\"Ssangyong\") & (car[\"carmodel\"].isin([\"Stavic\"])==False))]\n",
    "car = car[~((car[\"carbrand\"]==\"Subaru\") & (car[\"carmodel\"].isin([\"WRX\"])))]\n",
    "\n",
    "car = car[~((car[\"carbrand\"]==\"Suzuki\") & (car[\"carmodel\"].isin([\"Carry\",\"Dòng khác\",\"Jimny\",\"Super Carry Truck\",\"Wagon R+\"])))]\n",
    "car[\"carmodel\"].replace({\"Grand vitara\":\"Vitara\",\"XL 7\":\"XL7\"},inplace=True)\n",
    "\n",
    "car = car[~((car[\"carbrand\"]==\"Toyota\") & (car[\"carmodel\"].isin([\"1116\",\"4 Runner\",\"Aurion\",\"Aygo\",\"Celica\",\"Cressida\",\"Dòng khác\",\"IQ\",\n",
    "                                                                 \"Khác\",\"Mark II\",\"Matrix\",\"Previa\",\"Wish\",\"Yaris Verso\"])))]\n",
    "car[\"carmodel\"].replace({\"Corolla altis\":\"Corolla Altis\",\"XL 7\":\"XL7\"},inplace=True)\n",
    "\n",
    "car[\"carbrand\"].replace({\"Vinfast\":\"VinFast\"},inplace=True)\n",
    "car = car[~((car[\"carbrand\"]==\"VinFast\") & (car[\"carmodel\"].isin([\"Dòng khác\",\"VF3\",\"1189\"])))]\n",
    "car[\"carmodel\"].replace({\"Lux A2.0\":\"Lux A 2.0\",\"Lux SA2.0\":\"Lux SA 2.0\",\"VF5 Plus\":\"VF5\",\"VFe34\":\"VF e34\"},inplace=True)\n",
    "\n",
    "car = car[~((car[\"carbrand\"]==\"Volkswagen\") & (car[\"carmodel\"].isin([\"Passat\",\"Polo\",\"T-Cross\",\"Teramont\",\"Teramont X\",\"Tiguan\",\"Touareg\",\"Viloran\",\"Virtus\"])==False))]\n",
    "car = car[~((car[\"carbrand\"]==\"Volvo\") & (car[\"carmodel\"].isin([\"S90\",\"XC60\",\"XC90\"])==False))]"
   ]
  },
  {
   "cell_type": "code",
   "execution_count": 61,
   "metadata": {},
   "outputs": [
    {
     "data": {
      "text/plain": [
       "(38339, 14)"
      ]
     },
     "execution_count": 61,
     "metadata": {},
     "output_type": "execute_result"
    }
   ],
   "source": [
    "car[[\"carbrand\",\"carmodel\"]].sort_values(by=[\"carbrand\",\"carmodel\"]).groupby([\"carbrand\",\"carmodel\"]).size().to_clipboard()\n",
    "car.shape"
   ]
  },
  {
   "cell_type": "markdown",
   "metadata": {},
   "source": [
    "## 3.3.Hộp số"
   ]
  },
  {
   "cell_type": "code",
   "execution_count": 62,
   "metadata": {},
   "outputs": [
    {
     "data": {
      "text/plain": [
       "web      gearbox    \n",
       "bonbanh  Tự động        19785\n",
       "chotot   Tự động        12386\n",
       "         Số sàn          3967\n",
       "bonbanh  Số sàn          2151\n",
       "chotot   Bán tự động       50\n",
       "Name: count, dtype: int64"
      ]
     },
     "execution_count": 62,
     "metadata": {},
     "output_type": "execute_result"
    }
   ],
   "source": [
    "# Kiểm tra giá trị trong trường\n",
    "car[[\"web\",\"gearbox\"]].value_counts()"
   ]
  },
  {
   "cell_type": "code",
   "execution_count": 63,
   "metadata": {},
   "outputs": [
    {
     "data": {
      "text/plain": [
       "web      gearbox\n",
       "bonbanh  Tự động    19785\n",
       "chotot   Tự động    12436\n",
       "         Số sàn      3967\n",
       "bonbanh  Số sàn      2151\n",
       "Name: count, dtype: int64"
      ]
     },
     "execution_count": 63,
     "metadata": {},
     "output_type": "execute_result"
    }
   ],
   "source": [
    "# Chuyển \"Bán tự động\" thành \"Tự động\"\n",
    "car[\"gearbox\"].replace({\"Bán tự động\":\"Tự động\"}, inplace=True)\n",
    "car[[\"web\",\"gearbox\"]].value_counts()"
   ]
  },
  {
   "cell_type": "markdown",
   "metadata": {},
   "source": [
    "## 3.4.Nhiên liệu"
   ]
  },
  {
   "cell_type": "code",
   "execution_count": 64,
   "metadata": {},
   "outputs": [
    {
     "data": {
      "text/plain": [
       "web      fuel          \n",
       "bonbanh  Xăng              17653\n",
       "chotot   Xăng              13474\n",
       "bonbanh  Dầu                3542\n",
       "chotot   Dầu                2631\n",
       "bonbanh  Động cơ Hybrid      381\n",
       "         Điện                359\n",
       "chotot   Điện                154\n",
       "         Động cơ Hybrid      144\n",
       "Name: count, dtype: int64"
      ]
     },
     "execution_count": 64,
     "metadata": {},
     "output_type": "execute_result"
    }
   ],
   "source": [
    "# Kiểm tra giá trị trong trường\n",
    "car[[\"web\",\"fuel\"]].value_counts()"
   ]
  },
  {
   "cell_type": "code",
   "execution_count": 65,
   "metadata": {},
   "outputs": [],
   "source": [
    "# Kiểm tra trường null\n",
    "car.loc[car[\"fuel\"].isna(),:]\n",
    "\n",
    "# Kiểm tra thì động cơ dầu, gán là dầu\n",
    "car.loc[car[\"fuel\"].isna(),\"fuel\"] = \"Dầu\""
   ]
  },
  {
   "cell_type": "markdown",
   "metadata": {},
   "source": [
    "## 3.5.Nơi sản xuất"
   ]
  },
  {
   "cell_type": "code",
   "execution_count": 66,
   "metadata": {},
   "outputs": [
    {
     "data": {
      "text/plain": [
       "web      carorigin         \n",
       "bonbanh  Lắp ráp trong nước    12189\n",
       "         Nhập khẩu              9747\n",
       "chotot   Việt Nam               7754\n",
       "         Thái Lan               2155\n",
       "         Nước khác              1311\n",
       "         Hàn Quốc                922\n",
       "         Nhật Bản                876\n",
       "         Đức                     472\n",
       "         Mỹ                      387\n",
       "         Ấn Độ                   170\n",
       "         Trung Quốc               31\n",
       "         Đài Loan                 28\n",
       "Name: count, dtype: int64"
      ]
     },
     "execution_count": 66,
     "metadata": {},
     "output_type": "execute_result"
    }
   ],
   "source": [
    "# Kiểm tra giá trị trong trường\n",
    "car[[\"web\",\"carorigin\"]].value_counts()"
   ]
  },
  {
   "cell_type": "code",
   "execution_count": 67,
   "metadata": {},
   "outputs": [
    {
     "data": {
      "text/plain": [
       "web      carorigin         \n",
       "bonbanh  Lắp ráp trong nước    12189\n",
       "         Nhập khẩu              9747\n",
       "chotot   Lắp ráp trong nước     7754\n",
       "         Nhập khẩu              6352\n",
       "Name: count, dtype: int64"
      ]
     },
     "execution_count": 67,
     "metadata": {},
     "output_type": "execute_result"
    }
   ],
   "source": [
    "# Gán các trường hợp trong bộ chotot để thống nhất với bộ bonbanh\n",
    "car.loc[(car[\"web\"]==\"chotot\") & (car[\"carorigin\"].isna()==False),\"carorigin\"] = car.loc[(car[\"web\"]==\"chotot\") & (car[\"carorigin\"].isna()==False),\"carorigin\"].apply(lambda x: \"Lắp ráp trong nước\" if x == \"Việt Nam\" else \"Nhập khẩu\")\n",
    "car[[\"web\",\"carorigin\"]].value_counts()"
   ]
  },
  {
   "cell_type": "code",
   "execution_count": 68,
   "metadata": {},
   "outputs": [
    {
     "data": {
      "text/plain": [
       "web\n",
       "chotot    2297\n",
       "Name: count, dtype: int64"
      ]
     },
     "execution_count": 68,
     "metadata": {},
     "output_type": "execute_result"
    }
   ],
   "source": [
    "# Kiểm tra trường hợp NaN\n",
    "car.loc[car[\"carorigin\"].isna(),\"web\"].value_counts()"
   ]
  },
  {
   "cell_type": "code",
   "execution_count": 69,
   "metadata": {},
   "outputs": [
    {
     "name": "stdout",
     "output_type": "stream",
     "text": [
      "(282, 5)\n",
      "(208, 3)\n",
      "(209, 6)\n"
     ]
    },
    {
     "data": {
      "text/plain": [
       "carbrand    carmodel\n",
       "Mazda       626         2\n",
       "Audi        A4          1\n",
       "BMW         X5          1\n",
       "Audi        Q2          1\n",
       "            Q3          1\n",
       "                       ..\n",
       "VinFast     VF9         1\n",
       "Volkswagen  Passat      1\n",
       "            Polo        1\n",
       "Volvo       S90         1\n",
       "            XC90        1\n",
       "Name: count, Length: 208, dtype: int64"
      ]
     },
     "execution_count": 69,
     "metadata": {},
     "output_type": "execute_result"
    }
   ],
   "source": [
    "# Thống kê carorigin có quan sát nhiều nhất theo từng model\n",
    "full_origin = car.loc[:,[\"carmodel\",\"carbrand\",\"carorigin\"]].value_counts().reset_index().rename(columns={\"count\":\"count_full\"})\n",
    "full_origin_max = full_origin.groupby(by=[\"carbrand\",\"carmodel\"])[\"count_full\"].max().reset_index(name=\"max_count\")\n",
    "full_origin = full_origin.merge(full_origin_max)\n",
    "full_origin = full_origin[full_origin[\"count_full\"]==full_origin[\"max_count\"]]\n",
    "print(full_origin.shape)\n",
    "\n",
    "# Thống kê và merge các trường hợp NaN\n",
    "check_origin = car.loc[car[\"carorigin\"].isna(),[\"carmodel\",\"carbrand\"]].value_counts().reset_index()\n",
    "print(check_origin.shape)\n",
    "\n",
    "check_origin = check_origin.merge(full_origin)\n",
    "print(check_origin.shape)\n",
    "# --> Tồn tại một xe có 2 giá trị max\n",
    "check_origin[[\"carbrand\",\"carmodel\"]].value_counts().sort_values(ascending=False)"
   ]
  },
  {
   "cell_type": "code",
   "execution_count": 70,
   "metadata": {},
   "outputs": [
    {
     "data": {
      "text/plain": [
       "web\n",
       "chotot    2\n",
       "Name: count, dtype: int64"
      ]
     },
     "execution_count": 70,
     "metadata": {},
     "output_type": "execute_result"
    }
   ],
   "source": [
    "# Vá các trường hợp Nan\n",
    "car.loc[(car[\"carorigin\"].isna()) & (car[\"carmodel\"]!=\"626\"),\"carorigin\"] = list(car.loc[(car[\"carorigin\"].isna()) & (car[\"carmodel\"]!=\"626\"),[\"carbrand\",\"carmodel\"]].merge(full_origin)[\"carorigin\"])\n",
    "car.loc[car[\"carorigin\"].isna(),\"web\"].value_counts()"
   ]
  },
  {
   "cell_type": "code",
   "execution_count": 71,
   "metadata": {},
   "outputs": [
    {
     "data": {
      "text/plain": [
       "(38337, 14)"
      ]
     },
     "execution_count": 71,
     "metadata": {},
     "output_type": "execute_result"
    }
   ],
   "source": [
    "# Drop các bản ghi còn NA\n",
    "car = car.dropna(subset=[\"carorigin\"])\n",
    "car.shape"
   ]
  },
  {
   "cell_type": "markdown",
   "metadata": {},
   "source": [
    "## 3.6.Kiểu dáng, số chỗ ngồi"
   ]
  },
  {
   "cell_type": "code",
   "execution_count": 72,
   "metadata": {},
   "outputs": [
    {
     "data": {
      "text/plain": [
       "carseats        16043\n",
       "cartype         13206\n",
       "url                 0\n",
       "post_date           0\n",
       "Price               0\n",
       "carbrand            0\n",
       "carmodel            0\n",
       "mfdate              0\n",
       "mileage_v2          0\n",
       "condition_ad        0\n",
       "gearbox             0\n",
       "fuel                0\n",
       "carorigin           0\n",
       "web                 0\n",
       "dtype: int64"
      ]
     },
     "execution_count": 72,
     "metadata": {},
     "output_type": "execute_result"
    }
   ],
   "source": [
    "# Kiểm tra nan trong bộ dữ liệu\n",
    "car.isna().sum().sort_values(ascending=False)"
   ]
  },
  {
   "cell_type": "code",
   "execution_count": 73,
   "metadata": {},
   "outputs": [],
   "source": [
    "# carseats và cartype null nhiều, nếu vá bằng carmodel thì chỉ vá được các trường hợp carmodel tương ứng 1 cartype.\n",
    "# Tuy nhiên như vậy thì vẫn phụ thuộc vào carmodel\n",
    "# --> Drop hai trường này\n",
    "car.drop([\"carseats\",\"cartype\"], axis=1, inplace=True)"
   ]
  },
  {
   "cell_type": "code",
   "execution_count": 74,
   "metadata": {},
   "outputs": [],
   "source": [
    "# Export data to pickle\n",
    "with open('car_cleaned.pkl','wb') as f:\n",
    "    pickle.dump(car,f)"
   ]
  }
 ],
 "metadata": {
  "kernelspec": {
   "display_name": "Python 3",
   "language": "python",
   "name": "python3"
  },
  "language_info": {
   "codemirror_mode": {
    "name": "ipython",
    "version": 3
   },
   "file_extension": ".py",
   "mimetype": "text/x-python",
   "name": "python",
   "nbconvert_exporter": "python",
   "pygments_lexer": "ipython3",
   "version": "3.12.0"
  }
 },
 "nbformat": 4,
 "nbformat_minor": 2
}
